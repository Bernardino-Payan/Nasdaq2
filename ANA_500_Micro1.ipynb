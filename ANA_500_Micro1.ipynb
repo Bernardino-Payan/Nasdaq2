{
 "cells": [
  {
   "cell_type": "markdown",
   "id": "52980799-b8f7-49ef-a0ed-07804d9d5e29",
   "metadata": {},
   "source": [
    "Bernardino Payan ID: 9000684321 Email: b.payan8432@student.nu.edu"
   ]
  },
  {
   "cell_type": "markdown",
   "id": "dbe42d0d-d47e-4934-b30d-93c6aaa3a8a0",
   "metadata": {},
   "source": [
    "Micro Project 1"
   ]
  },
  {
   "cell_type": "code",
   "execution_count": 52,
   "id": "b7dcb8a6-c93e-4b35-b8ee-8b71f201553c",
   "metadata": {},
   "outputs": [
    {
     "data": {
      "text/plain": [
       "'/Users/bernardinopayan'"
      ]
     },
     "execution_count": 52,
     "metadata": {},
     "output_type": "execute_result"
    }
   ],
   "source": [
    "pwd"
   ]
  },
  {
   "cell_type": "code",
   "execution_count": 53,
   "id": "3de84143-5a80-4917-a83f-3940177caa4e",
   "metadata": {},
   "outputs": [],
   "source": [
    "# import packages\n",
    "import pandas as pd\n",
    "import numpy as np\n",
    "import matplotlib.pyplot as plt\n",
    "import seaborn as sns"
   ]
  },
  {
   "cell_type": "code",
   "execution_count": 54,
   "id": "feb25a77-0b35-406f-bae4-a3d057550749",
   "metadata": {},
   "outputs": [],
   "source": [
    "# Working directory:\n",
    "DATA = Path('.')"
   ]
  },
  {
   "cell_type": "code",
   "execution_count": 23,
   "id": "f390882c-20d8-4618-97ac-36fbbae8364f",
   "metadata": {},
   "outputs": [
    {
     "data": {
      "text/html": [
       "<div>\n",
       "<style scoped>\n",
       "    .dataframe tbody tr th:only-of-type {\n",
       "        vertical-align: middle;\n",
       "    }\n",
       "\n",
       "    .dataframe tbody tr th {\n",
       "        vertical-align: top;\n",
       "    }\n",
       "\n",
       "    .dataframe thead th {\n",
       "        text-align: right;\n",
       "    }\n",
       "</style>\n",
       "<table border=\"1\" class=\"dataframe\">\n",
       "  <thead>\n",
       "    <tr style=\"text-align: right;\">\n",
       "      <th></th>\n",
       "      <th>Date</th>\n",
       "      <th>Open</th>\n",
       "      <th>High</th>\n",
       "      <th>Low</th>\n",
       "      <th>Close</th>\n",
       "      <th>Volume</th>\n",
       "      <th>InterestRate</th>\n",
       "      <th>ExchangeRate</th>\n",
       "      <th>VIX</th>\n",
       "      <th>TEDSpread</th>\n",
       "      <th>EFFR</th>\n",
       "      <th>Gold</th>\n",
       "      <th>Oil</th>\n",
       "    </tr>\n",
       "  </thead>\n",
       "  <tbody>\n",
       "    <tr>\n",
       "      <th>0</th>\n",
       "      <td>2010-01-04</td>\n",
       "      <td>6.640000</td>\n",
       "      <td>6.810000</td>\n",
       "      <td>6.633333</td>\n",
       "      <td>6.746667</td>\n",
       "      <td>6514500.0</td>\n",
       "      <td>0.11</td>\n",
       "      <td>1.4419</td>\n",
       "      <td>20.04</td>\n",
       "      <td>0.17</td>\n",
       "      <td>0.12</td>\n",
       "      <td>1117.699951</td>\n",
       "      <td>81.510002</td>\n",
       "    </tr>\n",
       "    <tr>\n",
       "      <th>1</th>\n",
       "      <td>2010-01-05</td>\n",
       "      <td>6.643333</td>\n",
       "      <td>6.773333</td>\n",
       "      <td>6.643333</td>\n",
       "      <td>6.766667</td>\n",
       "      <td>4445100.0</td>\n",
       "      <td>0.11</td>\n",
       "      <td>1.4402</td>\n",
       "      <td>19.35</td>\n",
       "      <td>0.18</td>\n",
       "      <td>0.12</td>\n",
       "      <td>1118.099976</td>\n",
       "      <td>81.769997</td>\n",
       "    </tr>\n",
       "    <tr>\n",
       "      <th>2</th>\n",
       "      <td>2010-01-06</td>\n",
       "      <td>6.733333</td>\n",
       "      <td>6.786667</td>\n",
       "      <td>6.720000</td>\n",
       "      <td>6.763333</td>\n",
       "      <td>7340100.0</td>\n",
       "      <td>0.11</td>\n",
       "      <td>1.4404</td>\n",
       "      <td>19.16</td>\n",
       "      <td>0.19</td>\n",
       "      <td>0.12</td>\n",
       "      <td>1135.900024</td>\n",
       "      <td>83.180000</td>\n",
       "    </tr>\n",
       "    <tr>\n",
       "      <th>3</th>\n",
       "      <td>2010-01-07</td>\n",
       "      <td>6.750000</td>\n",
       "      <td>6.766667</td>\n",
       "      <td>6.630000</td>\n",
       "      <td>6.673333</td>\n",
       "      <td>8498400.0</td>\n",
       "      <td>0.11</td>\n",
       "      <td>1.4314</td>\n",
       "      <td>19.06</td>\n",
       "      <td>0.20</td>\n",
       "      <td>0.10</td>\n",
       "      <td>1133.099976</td>\n",
       "      <td>82.660004</td>\n",
       "    </tr>\n",
       "    <tr>\n",
       "      <th>4</th>\n",
       "      <td>2010-01-08</td>\n",
       "      <td>6.676667</td>\n",
       "      <td>6.766667</td>\n",
       "      <td>6.626667</td>\n",
       "      <td>6.743333</td>\n",
       "      <td>4347600.0</td>\n",
       "      <td>0.11</td>\n",
       "      <td>1.4357</td>\n",
       "      <td>18.13</td>\n",
       "      <td>0.20</td>\n",
       "      <td>0.11</td>\n",
       "      <td>1138.199951</td>\n",
       "      <td>82.750000</td>\n",
       "    </tr>\n",
       "    <tr>\n",
       "      <th>5</th>\n",
       "      <td>2010-01-11</td>\n",
       "      <td>6.746667</td>\n",
       "      <td>6.800000</td>\n",
       "      <td>6.700000</td>\n",
       "      <td>6.760000</td>\n",
       "      <td>5364300.0</td>\n",
       "      <td>0.11</td>\n",
       "      <td>1.4536</td>\n",
       "      <td>17.55</td>\n",
       "      <td>0.21</td>\n",
       "      <td>0.11</td>\n",
       "      <td>1150.699951</td>\n",
       "      <td>82.519997</td>\n",
       "    </tr>\n",
       "    <tr>\n",
       "      <th>6</th>\n",
       "      <td>2010-01-12</td>\n",
       "      <td>6.720000</td>\n",
       "      <td>6.766667</td>\n",
       "      <td>6.606667</td>\n",
       "      <td>6.643333</td>\n",
       "      <td>5198400.0</td>\n",
       "      <td>0.11</td>\n",
       "      <td>1.4523</td>\n",
       "      <td>18.25</td>\n",
       "      <td>0.20</td>\n",
       "      <td>0.11</td>\n",
       "      <td>1128.900024</td>\n",
       "      <td>80.790001</td>\n",
       "    </tr>\n",
       "    <tr>\n",
       "      <th>7</th>\n",
       "      <td>2010-01-13</td>\n",
       "      <td>6.616667</td>\n",
       "      <td>6.716667</td>\n",
       "      <td>6.583333</td>\n",
       "      <td>6.706667</td>\n",
       "      <td>6831900.0</td>\n",
       "      <td>0.11</td>\n",
       "      <td>1.4492</td>\n",
       "      <td>17.85</td>\n",
       "      <td>0.19</td>\n",
       "      <td>0.11</td>\n",
       "      <td>1136.400024</td>\n",
       "      <td>79.650002</td>\n",
       "    </tr>\n",
       "    <tr>\n",
       "      <th>8</th>\n",
       "      <td>2010-01-14</td>\n",
       "      <td>6.673333</td>\n",
       "      <td>6.763333</td>\n",
       "      <td>6.643333</td>\n",
       "      <td>6.750000</td>\n",
       "      <td>4493700.0</td>\n",
       "      <td>0.11</td>\n",
       "      <td>1.4478</td>\n",
       "      <td>17.63</td>\n",
       "      <td>0.20</td>\n",
       "      <td>0.11</td>\n",
       "      <td>1142.599976</td>\n",
       "      <td>79.389999</td>\n",
       "    </tr>\n",
       "    <tr>\n",
       "      <th>9</th>\n",
       "      <td>2010-01-15</td>\n",
       "      <td>6.740000</td>\n",
       "      <td>6.800000</td>\n",
       "      <td>6.676667</td>\n",
       "      <td>6.720000</td>\n",
       "      <td>6981900.0</td>\n",
       "      <td>0.11</td>\n",
       "      <td>1.4376</td>\n",
       "      <td>17.91</td>\n",
       "      <td>0.19</td>\n",
       "      <td>0.12</td>\n",
       "      <td>1130.099976</td>\n",
       "      <td>78.000000</td>\n",
       "    </tr>\n",
       "  </tbody>\n",
       "</table>\n",
       "</div>"
      ],
      "text/plain": [
       "         Date      Open      High       Low     Close     Volume  \\\n",
       "0  2010-01-04  6.640000  6.810000  6.633333  6.746667  6514500.0   \n",
       "1  2010-01-05  6.643333  6.773333  6.643333  6.766667  4445100.0   \n",
       "2  2010-01-06  6.733333  6.786667  6.720000  6.763333  7340100.0   \n",
       "3  2010-01-07  6.750000  6.766667  6.630000  6.673333  8498400.0   \n",
       "4  2010-01-08  6.676667  6.766667  6.626667  6.743333  4347600.0   \n",
       "5  2010-01-11  6.746667  6.800000  6.700000  6.760000  5364300.0   \n",
       "6  2010-01-12  6.720000  6.766667  6.606667  6.643333  5198400.0   \n",
       "7  2010-01-13  6.616667  6.716667  6.583333  6.706667  6831900.0   \n",
       "8  2010-01-14  6.673333  6.763333  6.643333  6.750000  4493700.0   \n",
       "9  2010-01-15  6.740000  6.800000  6.676667  6.720000  6981900.0   \n",
       "\n",
       "   InterestRate  ExchangeRate    VIX  TEDSpread  EFFR         Gold        Oil  \n",
       "0          0.11        1.4419  20.04       0.17  0.12  1117.699951  81.510002  \n",
       "1          0.11        1.4402  19.35       0.18  0.12  1118.099976  81.769997  \n",
       "2          0.11        1.4404  19.16       0.19  0.12  1135.900024  83.180000  \n",
       "3          0.11        1.4314  19.06       0.20  0.10  1133.099976  82.660004  \n",
       "4          0.11        1.4357  18.13       0.20  0.11  1138.199951  82.750000  \n",
       "5          0.11        1.4536  17.55       0.21  0.11  1150.699951  82.519997  \n",
       "6          0.11        1.4523  18.25       0.20  0.11  1128.900024  80.790001  \n",
       "7          0.11        1.4492  17.85       0.19  0.11  1136.400024  79.650002  \n",
       "8          0.11        1.4478  17.63       0.20  0.11  1142.599976  79.389999  \n",
       "9          0.11        1.4376  17.91       0.19  0.12  1130.099976  78.000000  "
      ]
     },
     "execution_count": 23,
     "metadata": {},
     "output_type": "execute_result"
    }
   ],
   "source": [
    "# load the data\n",
    "nasdaq_df = pd.read_csv(DATA / 'nasdq.csv')\n",
    "# review first seven records\n",
    "nasdaq_df.head(10)"
   ]
  },
  {
   "cell_type": "code",
   "execution_count": 55,
   "id": "9dd3ff3a-f805-400a-9628-04fa72076f81",
   "metadata": {},
   "outputs": [
    {
     "name": "stdout",
     "output_type": "stream",
     "text": [
      "\n",
      "Data Types and Non-Null Counts:\n",
      "<class 'pandas.core.frame.DataFrame'>\n",
      "RangeIndex: 3914 entries, 0 to 3913\n",
      "Data columns (total 15 columns):\n",
      " #   Column        Non-Null Count  Dtype         \n",
      "---  ------        --------------  -----         \n",
      " 0   Date          3914 non-null   datetime64[ns]\n",
      " 1   Open          3914 non-null   float64       \n",
      " 2   High          3914 non-null   float64       \n",
      " 3   Low           3914 non-null   float64       \n",
      " 4   Close         3914 non-null   float64       \n",
      " 5   Volume        3914 non-null   float64       \n",
      " 6   InterestRate  3914 non-null   float64       \n",
      " 7   ExchangeRate  3914 non-null   float64       \n",
      " 8   VIX           3914 non-null   float64       \n",
      " 9   TEDSpread     3914 non-null   float64       \n",
      " 10  EFFR          3914 non-null   float64       \n",
      " 11  Gold          3914 non-null   float64       \n",
      " 12  Oil           3914 non-null   float64       \n",
      " 13  DailyReturn   3913 non-null   float64       \n",
      " 14  20_MA         3895 non-null   float64       \n",
      "dtypes: datetime64[ns](1), float64(14)\n",
      "memory usage: 458.8 KB\n",
      "None\n"
     ]
    }
   ],
   "source": [
    "#data information\n",
    "# Display the number of data points and their data types\n",
    "print(\"\\nData Types and Non-Null Counts:\")\n",
    "print(nasdaq_df.info())"
   ]
  },
  {
   "cell_type": "code",
   "execution_count": 56,
   "id": "0b950fb4-f9ea-4baa-a5ac-d52e94db0bb3",
   "metadata": {},
   "outputs": [
    {
     "data": {
      "text/plain": [
       "(3914, 15)"
      ]
     },
     "execution_count": 56,
     "metadata": {},
     "output_type": "execute_result"
    }
   ],
   "source": [
    "# data dimension\n",
    "nasdaq_df.shape"
   ]
  },
  {
   "cell_type": "code",
   "execution_count": 49,
   "id": "999c1ad6-45d7-4a60-8290-dd7ef91979d4",
   "metadata": {},
   "outputs": [
    {
     "name": "stdout",
     "output_type": "stream",
     "text": [
      "\n",
      "Missing Values:\n",
      " Date             0\n",
      "Open             0\n",
      "High             0\n",
      "Low              0\n",
      "Close            0\n",
      "Volume           0\n",
      "InterestRate     0\n",
      "ExchangeRate     0\n",
      "VIX              0\n",
      "TEDSpread        0\n",
      "EFFR             0\n",
      "Gold             0\n",
      "Oil              0\n",
      "DailyReturn      1\n",
      "20_MA           19\n",
      "dtype: int64\n"
     ]
    }
   ],
   "source": [
    "# Check for missing values in the entire DataFrame\n",
    "missing_values = nasdaq_df.isnull().sum()\n",
    "\n",
    "print(\"\\nMissing Values:\\n\", missing_values)"
   ]
  },
  {
   "cell_type": "code",
   "execution_count": 57,
   "id": "7d13fa42-df79-4a0b-be84-7bc7e5a13b57",
   "metadata": {},
   "outputs": [
    {
     "data": {
      "text/plain": [
       "Date            datetime64[ns]\n",
       "Open                   float64\n",
       "High                   float64\n",
       "Low                    float64\n",
       "Close                  float64\n",
       "Volume                 float64\n",
       "InterestRate           float64\n",
       "ExchangeRate           float64\n",
       "VIX                    float64\n",
       "TEDSpread              float64\n",
       "EFFR                   float64\n",
       "Gold                   float64\n",
       "Oil                    float64\n",
       "DailyReturn            float64\n",
       "20_MA                  float64\n",
       "dtype: object"
      ]
     },
     "execution_count": 57,
     "metadata": {},
     "output_type": "execute_result"
    }
   ],
   "source": [
    "# variable dat types\n",
    "nasdaq_df.dtypes"
   ]
  },
  {
   "cell_type": "code",
   "execution_count": 58,
   "id": "2e03d655-a34c-4a21-a46c-8df0bbce505b",
   "metadata": {},
   "outputs": [
    {
     "name": "stdout",
     "output_type": "stream",
     "text": [
      "                                Date         Open         High           Low  \\\n",
      "count                           3914  3914.000000  3914.000000  3.914000e+03   \n",
      "mean   2017-05-30 11:26:53.285641216     0.000000     0.000000  5.809241e-17   \n",
      "min              2010-01-04 00:00:00    -1.189749    -1.188348 -1.191602e+00   \n",
      "25%              2013-09-17 06:00:00    -0.926617    -0.926986 -9.265981e-01   \n",
      "50%              2017-05-30 12:00:00    -0.280183    -0.283956 -2.755513e-01   \n",
      "75%              2021-02-09 18:00:00     0.923195     0.923257  9.167086e-01   \n",
      "max              2024-10-25 00:00:00     2.358349     2.328236  2.315035e+00   \n",
      "std                              NaN     1.000128     1.000128  1.000128e+00   \n",
      "\n",
      "             Close        Volume  InterestRate  ExchangeRate           VIX  \\\n",
      "count  3914.000000  3.914000e+03  3.914000e+03  3.914000e+03  3.914000e+03   \n",
      "mean      0.000000  2.904620e-17  5.809241e-17  6.971089e-16  7.261551e-17   \n",
      "min      -1.192926 -1.032349e+00 -6.769082e-01 -2.022191e+00 -1.325909e+00   \n",
      "25%      -0.925588 -5.511429e-01 -6.531813e-01 -8.051514e-01 -6.898738e-01   \n",
      "50%      -0.279343 -2.878590e-01 -5.938640e-01 -2.854473e-01 -2.541253e-01   \n",
      "75%       0.920519  1.871113e-01  3.018271e-01  9.146647e-01  3.994974e-01   \n",
      "max       2.339709  1.683046e+01  2.455045e+00  2.602384e+00  9.233993e+00   \n",
      "std       1.000128  1.000128e+00  1.000128e+00  1.000128e+00  1.000128e+00   \n",
      "\n",
      "          TEDSpread          EFFR          Gold           Oil    DailyReturn  \\\n",
      "count  3.914000e+03  3.914000e+03  3.914000e+03  3.914000e+03    3913.000000   \n",
      "mean   2.904620e-17  1.742772e-16 -1.742772e-16 -2.323696e-16      62.226054   \n",
      "min   -1.217578e+00 -6.824457e-01 -1.451592e+00 -5.107685e+00   -2349.518395   \n",
      "25%   -7.471937e-01 -6.527583e-01 -8.270876e-01 -8.773456e-01      -1.043782   \n",
      "50%   -2.096112e-01 -5.933834e-01 -3.295240e-01  6.733627e-02       0.000000   \n",
      "75%    5.295648e-01  3.031776e-01  7.480394e-01  8.318624e-01       1.190824   \n",
      "max    7.921324e+00  2.458486e+00  3.716723e+00  2.407380e+00  225752.271602   \n",
      "std    1.000128e+00  1.000128e+00  1.000128e+00  1.000128e+00    3618.939676   \n",
      "\n",
      "             20_MA  \n",
      "count  3895.000000  \n",
      "mean     -0.002715  \n",
      "min      -1.181680  \n",
      "25%      -0.922194  \n",
      "50%      -0.286139  \n",
      "75%       0.914638  \n",
      "max       2.235774  \n",
      "std       0.993662  \n"
     ]
    }
   ],
   "source": [
    "print(nasdaq_df.describe())"
   ]
  },
  {
   "cell_type": "code",
   "execution_count": 59,
   "id": "641c57b9-83a3-4967-a291-bcb593ac9bca",
   "metadata": {},
   "outputs": [
    {
     "name": "stdout",
     "output_type": "stream",
     "text": [
      "Index(['Date', 'Open', 'High', 'Low', 'Close', 'Volume', 'InterestRate',\n",
      "       'ExchangeRate', 'VIX', 'TEDSpread', 'EFFR', 'Gold', 'Oil',\n",
      "       'DailyReturn', '20_MA'],\n",
      "      dtype='object')\n"
     ]
    }
   ],
   "source": [
    "# Clean Data\n",
    "# Check column names\n",
    "print(nasdaq_df.columns)\n",
    "\n",
    "# Clean column names of any whitespace\n",
    "nasdaq_df.columns = nasdaq_df.columns.str.strip()\n",
    "\n",
    "# Attempt to convert 'Date' column to datetime\n",
    "if 'Date' in nasdaq_df.columns:\n",
    "    nasdaq_df['Date'] = pd.to_datetime(nasdaq_df['Date'], errors='coerce')\n",
    "else:\n",
    "    print(\"Column 'Date' not found in DataFrame.\")\n",
    "\n",
    "# Check for NaT values after conversion\n",
    "if nasdaq_df['Date'].isnull().any():\n",
    "    print(\"Some date conversions failed. NaT (Not a Time) found in the Date column.\")\n",
    "    # Optionally drop these rows\n",
    "    nasdaq_df.dropna(subset=['Date'], inplace=True)\n",
    "\n",
    "# Remove duplicate rows, if any\n",
    "nasdaq_df.drop_duplicates(inplace=True)"
   ]
  },
  {
   "cell_type": "code",
   "execution_count": 40,
   "id": "7b91e2b3-d483-40cc-a972-2603e79db7ae",
   "metadata": {},
   "outputs": [
    {
     "name": "stdout",
     "output_type": "stream",
     "text": [
      "<class 'pandas.core.frame.DataFrame'>\n",
      "RangeIndex: 3914 entries, 0 to 3913\n",
      "Data columns (total 13 columns):\n",
      " #   Column        Non-Null Count  Dtype         \n",
      "---  ------        --------------  -----         \n",
      " 0   Date          3914 non-null   datetime64[ns]\n",
      " 1   Open          3914 non-null   float64       \n",
      " 2   High          3914 non-null   float64       \n",
      " 3   Low           3914 non-null   float64       \n",
      " 4   Close         3914 non-null   float64       \n",
      " 5   Volume        3914 non-null   float64       \n",
      " 6   InterestRate  3914 non-null   float64       \n",
      " 7   ExchangeRate  3914 non-null   float64       \n",
      " 8   VIX           3914 non-null   float64       \n",
      " 9   TEDSpread     3914 non-null   float64       \n",
      " 10  EFFR          3914 non-null   float64       \n",
      " 11  Gold          3914 non-null   float64       \n",
      " 12  Oil           3914 non-null   float64       \n",
      "dtypes: datetime64[ns](1), float64(12)\n",
      "memory usage: 397.6 KB\n",
      "None\n",
      "        Date      Open      High       Low     Close     Volume  InterestRate  \\\n",
      "0 2010-01-04  6.640000  6.810000  6.633333  6.746667  6514500.0          0.11   \n",
      "1 2010-01-05  6.643333  6.773333  6.643333  6.766667  4445100.0          0.11   \n",
      "2 2010-01-06  6.733333  6.786667  6.720000  6.763333  7340100.0          0.11   \n",
      "3 2010-01-07  6.750000  6.766667  6.630000  6.673333  8498400.0          0.11   \n",
      "4 2010-01-08  6.676667  6.766667  6.626667  6.743333  4347600.0          0.11   \n",
      "\n",
      "   ExchangeRate    VIX  TEDSpread  EFFR         Gold        Oil  \n",
      "0        1.4419  20.04       0.17  0.12  1117.699951  81.510002  \n",
      "1        1.4402  19.35       0.18  0.12  1118.099976  81.769997  \n",
      "2        1.4404  19.16       0.19  0.12  1135.900024  83.180000  \n",
      "3        1.4314  19.06       0.20  0.10  1133.099976  82.660004  \n",
      "4        1.4357  18.13       0.20  0.11  1138.199951  82.750000  \n"
     ]
    }
   ],
   "source": [
    "# Check the DataFrame after cleaning\n",
    "print(nasdaq_df.info())\n",
    "print(nasdaq_df.head())"
   ]
  },
  {
   "cell_type": "code",
   "execution_count": 60,
   "id": "db39e8af-58e9-4643-85c7-b313a6dadd39",
   "metadata": {},
   "outputs": [
    {
     "name": "stdout",
     "output_type": "stream",
     "text": [
      "\n",
      "Summary Statistics:\n",
      "                                 Date         Open         High           Low  \\\n",
      "count                           3914  3914.000000  3914.000000  3.914000e+03   \n",
      "mean   2017-05-30 11:26:53.285641216     0.000000     0.000000  5.809241e-17   \n",
      "min              2010-01-04 00:00:00    -1.189749    -1.188348 -1.191602e+00   \n",
      "25%              2013-09-17 06:00:00    -0.926617    -0.926986 -9.265981e-01   \n",
      "50%              2017-05-30 12:00:00    -0.280183    -0.283956 -2.755513e-01   \n",
      "75%              2021-02-09 18:00:00     0.923195     0.923257  9.167086e-01   \n",
      "max              2024-10-25 00:00:00     2.358349     2.328236  2.315035e+00   \n",
      "std                              NaN     1.000128     1.000128  1.000128e+00   \n",
      "\n",
      "             Close        Volume  InterestRate  ExchangeRate           VIX  \\\n",
      "count  3914.000000  3.914000e+03  3.914000e+03  3.914000e+03  3.914000e+03   \n",
      "mean      0.000000  2.904620e-17  5.809241e-17  6.971089e-16  7.261551e-17   \n",
      "min      -1.192926 -1.032349e+00 -6.769082e-01 -2.022191e+00 -1.325909e+00   \n",
      "25%      -0.925588 -5.511429e-01 -6.531813e-01 -8.051514e-01 -6.898738e-01   \n",
      "50%      -0.279343 -2.878590e-01 -5.938640e-01 -2.854473e-01 -2.541253e-01   \n",
      "75%       0.920519  1.871113e-01  3.018271e-01  9.146647e-01  3.994974e-01   \n",
      "max       2.339709  1.683046e+01  2.455045e+00  2.602384e+00  9.233993e+00   \n",
      "std       1.000128  1.000128e+00  1.000128e+00  1.000128e+00  1.000128e+00   \n",
      "\n",
      "          TEDSpread          EFFR          Gold           Oil    DailyReturn  \\\n",
      "count  3.914000e+03  3.914000e+03  3.914000e+03  3.914000e+03    3913.000000   \n",
      "mean   2.904620e-17  1.742772e-16 -1.742772e-16 -2.323696e-16      62.226054   \n",
      "min   -1.217578e+00 -6.824457e-01 -1.451592e+00 -5.107685e+00   -2349.518395   \n",
      "25%   -7.471937e-01 -6.527583e-01 -8.270876e-01 -8.773456e-01      -1.043782   \n",
      "50%   -2.096112e-01 -5.933834e-01 -3.295240e-01  6.733627e-02       0.000000   \n",
      "75%    5.295648e-01  3.031776e-01  7.480394e-01  8.318624e-01       1.190824   \n",
      "max    7.921324e+00  2.458486e+00  3.716723e+00  2.407380e+00  225752.271602   \n",
      "std    1.000128e+00  1.000128e+00  1.000128e+00  1.000128e+00    3618.939676   \n",
      "\n",
      "             20_MA  \n",
      "count  3895.000000  \n",
      "mean     -0.002715  \n",
      "min      -1.181680  \n",
      "25%      -0.922194  \n",
      "50%      -0.286139  \n",
      "75%       0.914638  \n",
      "max       2.235774  \n",
      "std       0.993662  \n",
      "\n",
      "Columns with potential outliers:\n",
      " Index(['Volume', 'InterestRate', 'VIX', 'TEDSpread', 'EFFR', 'Gold', 'Oil',\n",
      "       'DailyReturn'],\n",
      "      dtype='object')\n"
     ]
    },
    {
     "name": "stderr",
     "output_type": "stream",
     "text": [
      "/Applications/anaconda3/lib/python3.11/site-packages/pandas/core/computation/expressions.py:73: RuntimeWarning: invalid value encountered in less\n",
      "  return op(a, b)\n",
      "/Applications/anaconda3/lib/python3.11/site-packages/pandas/core/computation/expressions.py:73: RuntimeWarning: invalid value encountered in greater\n",
      "  return op(a, b)\n"
     ]
    }
   ],
   "source": [
    "# Summary statistics\n",
    "print(\"\\nSummary Statistics:\\n\", nasdaq_df.describe())\n",
    "\n",
    "# Identify potential outliers using the IQR (Interquartile Range) method example\n",
    "Q1 = nasdaq_df.quantile(0.25)\n",
    "Q3 = nasdaq_df.quantile(0.75)\n",
    "IQR = Q3 - Q1\n",
    "\n",
    "# Boolean DataFrame showing where outliers are located\n",
    "outliers = (nasdaq_df < (Q1 - 1.5 * IQR)) | (nasdaq_df > (Q3 + 1.5 * IQR))\n",
    "\n",
    "# Columns with outliers\n",
    "outlier_columns = outliers.any(axis=0)\n",
    "print(\"\\nColumns with potential outliers:\\n\", outlier_columns[outlier_columns == True].index)"
   ]
  },
  {
   "cell_type": "code",
   "execution_count": 61,
   "id": "4cf4228a-7e3b-4fc6-8f3d-b043ce414600",
   "metadata": {},
   "outputs": [],
   "source": [
    "from sklearn.preprocessing import StandardScaler\n",
    "\n",
    "# Normalize/Standardize certain features\n",
    "scaler = StandardScaler()\n",
    "numeric_columns = ['Open', 'High', 'Low', 'Close', 'Volume', 'InterestRate', \n",
    "                   'ExchangeRate', 'VIX', 'TEDSpread', 'EFFR', 'Gold', 'Oil']\n",
    "\n",
    "nasdaq_df[numeric_columns] = scaler.fit_transform(nasdaq_df[numeric_columns])"
   ]
  },
  {
   "cell_type": "code",
   "execution_count": 62,
   "id": "b1d4c368-c6b8-491e-97c3-b556d4e7c431",
   "metadata": {},
   "outputs": [
    {
     "name": "stdout",
     "output_type": "stream",
     "text": [
      "Index(['Date', 'Open', 'High', 'Low', 'Close', 'Volume', 'InterestRate',\n",
      "       'ExchangeRate', 'VIX', 'TEDSpread', 'EFFR', 'Gold', 'Oil',\n",
      "       'DailyReturn', '20_MA'],\n",
      "      dtype='object')\n"
     ]
    }
   ],
   "source": [
    "# Create a new column for the daily return percentage\n",
    "nasdaq_df['DailyReturn'] = nasdaq_df['Close'].pct_change() * 100\n",
    "\n",
    "# Create moving averages\n",
    "nasdaq_df['20_MA'] = nasdaq_df['Close'].rolling(window=20).mean()\n",
    "\n",
    "# Check column names\n",
    "print(nasdaq_df.columns)"
   ]
  },
  {
   "cell_type": "code",
   "execution_count": 72,
   "id": "b8be394a-ba22-43c8-a5a4-62c1db7eaa7a",
   "metadata": {},
   "outputs": [
    {
     "name": "stdout",
     "output_type": "stream",
     "text": [
      "Number of data points: 3914\n",
      "Number of features: 15\n",
      "\n",
      "Data Types of Each Column:\n",
      "Date            datetime64[ns]\n",
      "Open                   float64\n",
      "High                   float64\n",
      "Low                    float64\n",
      "Close                  float64\n",
      "Volume                 float64\n",
      "InterestRate           float64\n",
      "ExchangeRate           float64\n",
      "VIX                    float64\n",
      "TEDSpread              float64\n",
      "EFFR                   float64\n",
      "Gold                   float64\n",
      "Oil                    float64\n",
      "DailyReturn            float64\n",
      "20_MA                  float64\n",
      "dtype: object\n",
      "\n",
      "Summary of Data Points and Types:\n",
      "              Column Names      Data Types  Non-Null Count\n",
      "Date                  Date  datetime64[ns]            3914\n",
      "Open                  Open         float64            3914\n",
      "High                  High         float64            3914\n",
      "Low                    Low         float64            3914\n",
      "Close                Close         float64            3914\n",
      "Volume              Volume         float64            3914\n",
      "InterestRate  InterestRate         float64            3914\n",
      "ExchangeRate  ExchangeRate         float64            3914\n",
      "VIX                    VIX         float64            3914\n",
      "TEDSpread        TEDSpread         float64            3914\n",
      "EFFR                  EFFR         float64            3914\n",
      "Gold                  Gold         float64            3914\n",
      "Oil                    Oil         float64            3914\n",
      "DailyReturn    DailyReturn         float64            3913\n",
      "20_MA                20_MA         float64            3895\n"
     ]
    }
   ],
   "source": [
    "# Get the number of data points (rows) and features (columns)\n",
    "num_data_points, num_features = nasdaq_df.shape\n",
    "print(f\"Number of data points: {num_data_points}\")\n",
    "print(f\"Number of features: {num_features}\")\n",
    "\n",
    "# Display the data types of each column\n",
    "data_types = nasdaq_df.dtypes\n",
    "print(\"\\nData Types of Each Column:\")\n",
    "print(data_types)\n",
    "\n",
    "# Create a summary DataFrame\n",
    "summary_df = pd.DataFrame({\n",
    "    'Column Names': nasdaq_df.columns,\n",
    "    'Data Types': nasdaq_df.dtypes,\n",
    "    'Non-Null Count': nasdaq_df.notnull().sum()\n",
    "})\n",
    "print(\"\\nSummary of Data Points and Types:\")\n",
    "print(summary_df)"
   ]
  },
  {
   "cell_type": "code",
   "execution_count": 68,
   "id": "ddbfba8d-6d9c-4a8b-9787-9a953da68dc3",
   "metadata": {},
   "outputs": [
    {
     "name": "stdout",
     "output_type": "stream",
     "text": [
      "Number of outliers in Daily Returns: 717\n",
      "Number of outliers in 20-Day Moving Average: 0\n"
     ]
    }
   ],
   "source": [
    "# Calculate Q1 and Q3 for DailyReturn\n",
    "Q1_return = nasdaq_df['DailyReturn'].quantile(0.25)\n",
    "Q3_return = nasdaq_df['DailyReturn'].quantile(0.75)\n",
    "IQR_return = Q3_return - Q1_return\n",
    "\n",
    "# Calculate Q1 and Q3 for 20_MA\n",
    "Q1_ma = nasdaq_df['20_MA'].quantile(0.25)\n",
    "Q3_ma = nasdaq_df['20_MA'].quantile(0.75)\n",
    "IQR_ma = Q3_ma - Q1_ma\n",
    "\n",
    "# Identify outliers for DailyReturn\n",
    "outlier_condition_return = (nasdaq_df['DailyReturn'] < (Q1_return - 1.5 * IQR_return)) | \\\n",
    "                           (nasdaq_df['DailyReturn'] > (Q3_return + 1.5 * IQR_return))\n",
    "outliers_return = nasdaq_df[outlier_condition_return]\n",
    "\n",
    "# Identify outliers for 20_MA\n",
    "outlier_condition_ma = (nasdaq_df['20_MA'] < (Q1_ma - 1.5 * IQR_ma)) | \\\n",
    "                       (nasdaq_df['20_MA'] > (Q3_ma + 1.5 * IQR_ma))\n",
    "outliers_ma = nasdaq_df[outlier_condition_ma]\n",
    "\n",
    "# Count the number of outliers\n",
    "num_outliers_return = outliers_return.shape[0]\n",
    "num_outliers_ma = outliers_ma.shape[0]\n",
    "\n",
    "# Print the number of outliers\n",
    "print(f\"Number of outliers in Daily Returns: {num_outliers_return}\")\n",
    "print(f\"Number of outliers in 20-Day Moving Average: {num_outliers_ma}\")"
   ]
  },
  {
   "cell_type": "code",
   "execution_count": 74,
   "id": "82540e9a-1018-47d6-b54c-b99057969d06",
   "metadata": {},
   "outputs": [
    {
     "name": "stdout",
     "output_type": "stream",
     "text": [
      "Data successfully saved to /Users/bernardinopayan/nasdaq_cleaned.csv\n"
     ]
    }
   ],
   "source": [
    "# Save the DataFrame to a CSV file in the current directory\n",
    "nasdaq_df.to_csv('/Users/bernardinopayan/nasdaq_cleaned.csv', index=False)\n",
    "\n",
    "print(\"Data successfully saved to /Users/bernardinopayan/nasdaq_cleaned.csv\")"
   ]
  },
  {
   "cell_type": "code",
   "execution_count": 66,
   "id": "3f84fef1-f685-44f3-af97-7e106fc29d4e",
   "metadata": {},
   "outputs": [
    {
     "data": {
      "image/png": "[encoded data removed]",
      "text/plain": [
       "<Figure size 1400x600 with 2 Axes>"
      ]
     },
     "metadata": {},
     "output_type": "display_data"
    }
   ],
   "source": [
    "import matplotlib.pyplot as plt\n",
    "import seaborn as sns\n",
    "\n",
    "# Set the aesthetic style of the plots\n",
    "sns.set(style=\"whitegrid\")\n",
    "\n",
    "# Create a figure and axes to plot side by side\n",
    "plt.figure(figsize=(14, 6))\n",
    "\n",
    "# Plot box plot for DailyReturn\n",
    "plt.subplot(1, 2, 1)\n",
    "sns.boxplot(y=nasdaq_df['DailyReturn'])\n",
    "plt.title('Box Plot of Daily Returns')\n",
    "plt.ylabel('Daily Return (%)')\n",
    "plt.xlabel('')\n",
    "\n",
    "# Plot box plot for 20_MA\n",
    "plt.subplot(1, 2, 2)\n",
    "sns.boxplot(y=nasdaq_df['20_MA'])\n",
    "plt.title('Box Plot of 20-Day Moving Average')\n",
    "plt.ylabel('20-Day Moving Average')\n",
    "plt.xlabel('')\n",
    "\n",
    "# Show the plots\n",
    "plt.tight_layout()\n",
    "plt.show()"
   ]
  },
  {
   "cell_type": "code",
   "execution_count": null,
   "id": "1f80f234-62c3-4c07-8265-e8aa516a8986",
   "metadata": {},
   "outputs": [],
   "source": []
  }
 ],
 "metadata": {
  "kernelspec": {
   "display_name": "Python 3 (ipykernel)",
   "language": "python",
   "name": "python3"
  },
  "language_info": {
   "codemirror_mode": {
    "name": "ipython",
    "version": 3
   },
   "file_extension": ".py",
   "mimetype": "text/x-python",
   "name": "python",
   "nbconvert_exporter": "python",
   "pygments_lexer": "ipython3",
   "version": "3.11.7"
  }
 },
 "nbformat": 4,
 "nbformat_minor": 5
}
